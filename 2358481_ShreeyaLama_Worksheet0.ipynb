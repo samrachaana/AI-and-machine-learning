{
  "nbformat": 4,
  "nbformat_minor": 0,
  "metadata": {
    "colab": {
      "provenance": [],
      "include_colab_link": true
    },
    "kernelspec": {
      "name": "python3",
      "display_name": "Python 3"
    },
    "language_info": {
      "name": "python"
    }
  },
  "cells": [
    {
      "cell_type": "markdown",
      "metadata": {
        "id": "view-in-github",
        "colab_type": "text"
      },
      "source": [
        "<a href=\"https://colab.research.google.com/github/samrachaana/AI-and-machine-learning/blob/main/2358481_ShreeyaLama_Worksheet0.ipynb\" target=\"_parent\"><img src=\"https://colab.research.google.com/assets/colab-badge.svg\" alt=\"Open In Colab\"/></a>"
      ]
    },
    {
      "cell_type": "markdown",
      "source": [
        "# **Workshop - 0**"
      ],
      "metadata": {
        "id": "kwaYTYGXSzOi"
      }
    },
    {
      "cell_type": "code",
      "execution_count": 1,
      "metadata": {
        "colab": {
          "base_uri": "https://localhost:8080/"
        },
        "id": "6QT7HulLSr1P",
        "outputId": "ec940796-9b27-4908-8aee-0c5590c7dd41"
      },
      "outputs": [
        {
          "output_type": "stream",
          "name": "stdout",
          "text": [
            "Hello world!\n",
            "Python Version: 3.11.11 (main, Dec  4 2024, 08:55:07) [GCC 11.4.0]\n"
          ]
        }
      ],
      "source": [
        "import sys\n",
        "\n",
        "# First, check python version\n",
        "if sys.version_info.major == 3 and sys.version_info.minor >= 6:\n",
        "  print(\"Hello world!\")\n",
        "  print(f\"Python Version: {sys.version}\")\n",
        "else:\n",
        "  print(\"Please use Python 3.6 or higher!\")\n",
        "\n"
      ]
    },
    {
      "cell_type": "code",
      "source": [
        "age = 20\n",
        "pi = 3.14\n",
        "temp = -5.5\n",
        "print(\"datatype of varaible age= \", type(age))\n",
        "print(\"datatype of varaible pi= \", type(pi))\n",
        "print(\"datatype of varaible temp= \", type(temp))"
      ],
      "metadata": {
        "colab": {
          "base_uri": "https://localhost:8080/"
        },
        "id": "A-vtWF7fT0e3",
        "outputId": "0fd5643d-8c00-430f-84f9-309e3abf0aef"
      },
      "execution_count": null,
      "outputs": [
        {
          "output_type": "stream",
          "name": "stdout",
          "text": [
            "datatype of varaible age=  <class 'int'>\n",
            "datatype of varaible pi=  <class 'float'>\n",
            "datatype of varaible temp=  <class 'float'>\n"
          ]
        }
      ]
    },
    {
      "cell_type": "code",
      "source": [
        "name = \"Shreeya\"\n",
        "greeting = 'Namaste'\n",
        "address = \"Kathmandu\"\n",
        "print(\"datatype of varaible name= \", type(name))\n",
        "print(\"datatype of varaible greeting= \", type(greeting))\n",
        "print(\"datatype of varaible address= \", type(address))\n",
        "\n",
        "# slice an element\n",
        "print(\"The first letter of name= \", name[0])\n",
        "print(\"The last letter of name= \", name[-1])\n",
        "\n",
        "# slice a range of elements\n",
        "print(\"The first letter to sixth letter of name= \", name[0:6])\n",
        "print(\"The first two letters of name= \", name[:2])\n",
        "print(\"Substring of name from the fifth letter= \", name[4:])\n"
      ],
      "metadata": {
        "colab": {
          "base_uri": "https://localhost:8080/"
        },
        "id": "0lO-IerTWXJN",
        "outputId": "2abc08d5-cc28-4b5d-f7eb-3389942baab1"
      },
      "execution_count": 2,
      "outputs": [
        {
          "output_type": "stream",
          "name": "stdout",
          "text": [
            "datatype of varaible name=  <class 'str'>\n",
            "datatype of varaible greeting=  <class 'str'>\n",
            "datatype of varaible address=  <class 'str'>\n",
            "The first letter of name=  S\n",
            "The last letter of name=  a\n",
            "The first letter to sixth letter of name=  Shreey\n",
            "The first two letters of name=  Sh\n",
            "Substring of name from the fifth letter=  eya\n"
          ]
        }
      ]
    },
    {
      "cell_type": "code",
      "source": [
        "#list -can contain mixed datatypes\n",
        "a_list = [1,2,3,4]\n",
        "mixed_list = [15,\"Hi\", False]\n",
        "#List is mutable\n",
        "mixed_list[0]=  True\n",
        "mixed_list"
      ],
      "metadata": {
        "colab": {
          "base_uri": "https://localhost:8080/"
        },
        "id": "zrqMeu1Rs-TN",
        "outputId": "203b1ba5-ab24-4116-93c7-d88541b13762"
      },
      "execution_count": 3,
      "outputs": [
        {
          "output_type": "execute_result",
          "data": {
            "text/plain": [
              "[True, 'Hi', False]"
            ]
          },
          "metadata": {},
          "execution_count": 3
        }
      ]
    },
    {
      "cell_type": "code",
      "source": [
        "#1\n",
        "fruits = ('apple', 'orange', 'strawberry', 'blueberry')\n",
        "\n",
        "# Convert tuple to list\n",
        "fruits_list = list(fruits)\n",
        "\n",
        "# Modify the list\n",
        "fruits_list[0] = 'banana'\n",
        "\n",
        "# Convert back to tuple\n",
        "fruits = tuple(fruits_list)\n",
        "\n",
        "print(fruits)\n",
        "\n",
        "#2\n",
        "fruits = ('apple', 'orange', 'strawberry', 'blueberry')\n",
        "\n",
        "# Create a new tuple\n",
        "fruits = ('banana',) + fruits[1:]\n",
        "\n",
        "print(fruits)\n",
        "\n"
      ],
      "metadata": {
        "colab": {
          "base_uri": "https://localhost:8080/"
        },
        "id": "MsCkMp8vteS1",
        "outputId": "ace27845-5494-4a78-d3d5-18fe186715d4"
      },
      "execution_count": 6,
      "outputs": [
        {
          "output_type": "stream",
          "name": "stdout",
          "text": [
            "('banana', 'orange', 'strawberry', 'blueberry')\n",
            "('banana', 'orange', 'strawberry', 'blueberry')\n"
          ]
        }
      ]
    },
    {
      "cell_type": "code",
      "source": [
        "# dictionary\n",
        "me = {\"name\":\"Shreeya\", 'age':20}\n",
        "print(\"Keys\",list(me.keys()))\n",
        "print(\"Values:\",list(me.values()))"
      ],
      "metadata": {
        "colab": {
          "base_uri": "https://localhost:8080/"
        },
        "id": "O224qca4ygJL",
        "outputId": "d8bd749e-74ec-4055-c1c0-179623cb6642"
      },
      "execution_count": 7,
      "outputs": [
        {
          "output_type": "stream",
          "name": "stdout",
          "text": [
            "Keys ['name', 'age']\n",
            "Values: ['Shreeya', 20]\n"
          ]
        }
      ]
    },
    {
      "cell_type": "code",
      "source": [
        "my_age=me.get('age')\n",
        "my_age"
      ],
      "metadata": {
        "colab": {
          "base_uri": "https://localhost:8080/"
        },
        "id": "yqy0W4sMUV38",
        "outputId": "c7e9fa12-d974-410e-aa1b-e18625c4e3f9"
      },
      "execution_count": null,
      "outputs": [
        {
          "output_type": "execute_result",
          "data": {
            "text/plain": [
              "20"
            ]
          },
          "metadata": {},
          "execution_count": 13
        }
      ]
    },
    {
      "cell_type": "code",
      "source": [
        "# set\n",
        "unique = {21,21,32,35,23,54,23,32,5,3423,1,21}\n",
        "print(unique)"
      ],
      "metadata": {
        "colab": {
          "base_uri": "https://localhost:8080/"
        },
        "id": "Z6Us-Yah5bNX",
        "outputId": "e2d6080a-e42c-4f48-dda7-8019b7b070a5"
      },
      "execution_count": null,
      "outputs": [
        {
          "output_type": "stream",
          "name": "stdout",
          "text": [
            "{32, 1, 35, 5, 21, 54, 23, 3423}\n"
          ]
        }
      ]
    },
    {
      "cell_type": "code",
      "source": [
        "#boolean\n",
        "is_student = True\n",
        "has_license = False\n",
        "print(is_student)\n",
        "print(has_license)"
      ],
      "metadata": {
        "colab": {
          "base_uri": "https://localhost:8080/"
        },
        "id": "SJPA3BTV5k5X",
        "outputId": "a0b81168-fb0e-4efe-c07c-f252d07e66ce"
      },
      "execution_count": null,
      "outputs": [
        {
          "output_type": "stream",
          "name": "stdout",
          "text": [
            "True\n",
            "False\n"
          ]
        }
      ]
    },
    {
      "cell_type": "code",
      "source": [
        "result  = None\n",
        "result"
      ],
      "metadata": {
        "id": "0hiZXz575t0O"
      },
      "execution_count": null,
      "outputs": []
    },
    {
      "cell_type": "code",
      "source": [
        "# logical statements\n",
        "x = 3\n",
        "if(x>0):\n",
        "  print(\"x is positive\")\n",
        "elif (x<0):\n",
        "  print(\"positive number\")\n",
        "else: # x==0\n",
        "  print(\"0\")"
      ],
      "metadata": {
        "id": "_vkfqgO457D7",
        "colab": {
          "base_uri": "https://localhost:8080/"
        },
        "outputId": "6c3a5a6f-cca2-483d-9671-576f53ca0779"
      },
      "execution_count": null,
      "outputs": [
        {
          "output_type": "stream",
          "name": "stdout",
          "text": [
            "x is positive\n"
          ]
        }
      ]
    },
    {
      "cell_type": "code",
      "source": [
        "a = True\n",
        "b= False\n",
        "if not a:\n",
        "  print(\"a is false\")\n",
        "if a and not b:\n",
        "  print(\"a is true and b is false\")"
      ],
      "metadata": {
        "colab": {
          "base_uri": "https://localhost:8080/"
        },
        "id": "z85qEY7sAPhl",
        "outputId": "1a2d3f58-f5ba-4647-ec27-e037f7acd0ea"
      },
      "execution_count": null,
      "outputs": [
        {
          "output_type": "stream",
          "name": "stdout",
          "text": [
            "a is true and b is false\n"
          ]
        }
      ]
    },
    {
      "cell_type": "code",
      "source": [
        "#for loop\n",
        "fruits = ['apple','orange','strawberry','blueberry']\n",
        "print(\"loop1\")\n",
        "for fruit in fruits:\n",
        "  if fruit == 'orange':\n",
        "    continue\n",
        "  else:\n",
        "    print(fruit)\n",
        "print(\"loop2\")\n",
        "for fruit in fruits:\n",
        "  print(fruit)\n",
        "  if fruit == 'strawberry':\n",
        "    break\n",
        "\n"
      ],
      "metadata": {
        "colab": {
          "base_uri": "https://localhost:8080/"
        },
        "id": "_YSlnJVlAor7",
        "outputId": "e4a99a4c-cfb0-4e80-a04d-eb8b75eb4baa"
      },
      "execution_count": null,
      "outputs": [
        {
          "output_type": "stream",
          "name": "stdout",
          "text": [
            "loop1\n",
            "apple\n",
            "strawberry\n",
            "blueberry\n",
            "loop2\n",
            "apple\n",
            "orange\n",
            "strawberry\n"
          ]
        }
      ]
    },
    {
      "cell_type": "code",
      "source": [
        "fruits.append(\"cherry\")\n",
        "fruits"
      ],
      "metadata": {
        "colab": {
          "base_uri": "https://localhost:8080/"
        },
        "id": "AWcEt3l6UoKH",
        "outputId": "62d769a1-79a2-4c55-dfe2-fcefb849d807"
      },
      "execution_count": null,
      "outputs": [
        {
          "output_type": "execute_result",
          "data": {
            "text/plain": [
              "['apple', 'orange', 'strawberry', 'blueberry', 'cherry']"
            ]
          },
          "metadata": {},
          "execution_count": 16
        }
      ]
    },
    {
      "cell_type": "code",
      "source": [
        "fruit = fruits[2].upper()\n",
        "fruit"
      ],
      "metadata": {
        "colab": {
          "base_uri": "https://localhost:8080/",
          "height": 35
        },
        "id": "EHASdgZ9UrmI",
        "outputId": "7e3c64d7-21c7-4aee-8f66-f66434d411ab"
      },
      "execution_count": null,
      "outputs": [
        {
          "output_type": "execute_result",
          "data": {
            "text/plain": [
              "'STRAWBERRY'"
            ],
            "application/vnd.google.colaboratory.intrinsic+json": {
              "type": "string"
            }
          },
          "metadata": {},
          "execution_count": 22
        }
      ]
    },
    {
      "cell_type": "code",
      "source": [
        "#functions\n",
        "\n",
        "def add_binary(a,b):\n",
        "  binary_sum = bin(a+b)[2:]\n",
        "  return binary_sum\n",
        "\n",
        "add_binary(4,7)"
      ],
      "metadata": {
        "colab": {
          "base_uri": "https://localhost:8080/",
          "height": 35
        },
        "id": "DYlf1VjACK8a",
        "outputId": "f92c2116-d3bd-48a7-c89b-c8d2852525f7"
      },
      "execution_count": null,
      "outputs": [
        {
          "output_type": "execute_result",
          "data": {
            "text/plain": [
              "'1011'"
            ],
            "application/vnd.google.colaboratory.intrinsic+json": {
              "type": "string"
            }
          },
          "metadata": {},
          "execution_count": 6
        }
      ]
    },
    {
      "cell_type": "markdown",
      "source": [
        "# **Exercises**"
      ],
      "metadata": {
        "id": "zgBMixFdpE2o"
      }
    },
    {
      "cell_type": "markdown",
      "source": [
        "#1.Exercise on Functions:"
      ],
      "metadata": {
        "id": "sdhE9qfspASO"
      }
    },
    {
      "cell_type": "markdown",
      "metadata": {
        "id": "zMLo3xNM2pen"
      },
      "source": [
        "Task - 1:\n",
        "\n",
        "Create a Python program that converts between different units of measurement.\n",
        "*   The program should:\n",
        "1. Prompt the user to choose the type of conversion (e.g., length, weight, volume).\n",
        "2. Ask the user to input the value to be converted.\n",
        "3. Perform the conversion and display the result.\n",
        "4. Handle potential errors, such as invalid input or unsupported conversion types.\n",
        "*   Requirements:\n",
        "1. Functions: Define at least one function to perform the conversion.\n",
        "2. Error Handling: Use try-except blocks to handle invalid input (e.g., non-numeric values).\n",
        "3. User Input: Prompt the user to select the conversion type and input the value.\n",
        "4. Docstrings: Include a docstring in your function to describe its purpose, parameters, and return value.\n",
        "*   Conversion Options:\n",
        "1. Length:\n",
        "- Convert meters (m) to feet (ft).\n",
        "- Convert feet (ft) to meters (m).\n",
        "2. Weight:\n",
        "- Convert kilograms (kg) to pounds (lbs).\n",
        "- Convert pounds (lbs) to kilograms (kg).\n",
        "3. Volume:\n",
        "- Convert liters (L) to gallons (gal).\n",
        "- Convert gallons (gal) to liters (L).\n"
      ]
    },
    {
      "cell_type": "code",
      "execution_count": null,
      "metadata": {
        "id": "82L4UGi4pZWU",
        "colab": {
          "base_uri": "https://localhost:8080/"
        },
        "outputId": "cb933667-a252-4160-90bc-9b9c8ba4abb8"
      },
      "outputs": [
        {
          "output_type": "stream",
          "name": "stdout",
          "text": [
            "Select a conversion option:\n",
            "1. Length: meters (m) to feet (ft)\n",
            "2. Length: feet (ft) to meters (m)\n",
            "3. Weight: kilograms (kg) to pounds (lbs)\n",
            "4. Weight: pounds (lbs) to kilograms (kg)\n",
            "5. Volume: liters (L) to gallons (gal)\n",
            "6. Volume: gallons (gal) to liters (L)\n",
            "Enter the number of the conversion you want: 6\n",
            "You have selected: Volume: gallons (gal) to liters (L)\n",
            "Enter the value in gal: 4\n",
            "4.0 gal is equal to 15.1416 L\n",
            "Do you want to perform another conversion? (yes/no): n\n",
            "End of program!\n"
          ]
        }
      ],
      "source": [
        "def get_choice():\n",
        "    \"\"\"This function prompts the user to choose the type of conversion they want.\n",
        "    Returns:\n",
        "    str: The choice of conversion type.\n",
        "    \"\"\"\n",
        "\n",
        "    conversion_options = {\n",
        "        \"1\": (\"m_to_ft\", \"Length: meters (m) to feet (ft)\", \"m\", \"ft\"),\n",
        "        \"2\": (\"ft_to_m\", \"Length: feet (ft) to meters (m)\", \"ft\", \"m\"),\n",
        "        \"3\": (\"kg_to_pounds\", \"Weight: kilograms (kg) to pounds (lbs)\", \"kg\", \"lbs\"),\n",
        "        \"4\": (\"pounds_to_kg\", \"Weight: pounds (lbs) to kilograms (kg)\", \"lbs\", \"kg\"),\n",
        "        \"5\": (\"L_to_gal\", \"Volume: liters (L) to gallons (gal)\", \"L\", \"gal\"),\n",
        "        \"6\": (\"gal_to_L\", \"Volume: gallons (gal) to liters (L)\", \"gal\", \"L\")\n",
        "    }\n",
        "\n",
        "    print(\"Select a conversion option:\")\n",
        "    for key, value in conversion_options.items():\n",
        "        print(f\"{key}. {value[1]}\")\n",
        "\n",
        "    choice = input(\"Enter the number of the conversion you want: \").strip()\n",
        "    return conversion_options.get(choice, None)\n",
        "\n",
        "def convert(value, conv_choice):\n",
        "    \"\"\"\n",
        "    Converts the given value based on the conversion type.\n",
        "\n",
        "    Parameters:\n",
        "    conversion_functions (dict): A dictionary containing conversion functions.\n",
        "    value (float): The value to be converted.\n",
        "    conv_choice (str): The conversion type choice\n",
        "\n",
        "    Returns:\n",
        "    float: The converted value.\n",
        "    \"\"\"\n",
        "    conversion_functions = {\n",
        "        \"m_to_ft\": lambda v: v * 3.281,\n",
        "        \"ft_to_m\": lambda v: v / 3.281,\n",
        "        \"kg_to_pounds\": lambda v: v * 2.20462,\n",
        "        \"pounds_to_kg\": lambda v: v * 0.453592,\n",
        "        \"L_to_gal\": lambda v: v * 0.264172,\n",
        "        \"gal_to_L\": lambda v: v * 3.78541\n",
        "    }\n",
        "\n",
        "    return conversion_functions.get(conv_choice, lambda v: None)(value)\n",
        "\n",
        "def main():\n",
        "    while True:\n",
        "        conversion_choice = get_choice()\n",
        "\n",
        "        if not conversion_choice:\n",
        "            print(\"Invalid choice. Please select a valid option.\")\n",
        "            continue\n",
        "\n",
        "        conv_type, desc, from_unit, to_unit = conversion_choice\n",
        "        print(f\"You have selected: {desc}\")\n",
        "\n",
        "        try:\n",
        "            value = float(input(f\"Enter the value in {from_unit}: \"))\n",
        "            converted_value = convert(value, conv_type)\n",
        "\n",
        "            if converted_value is not None:\n",
        "                print(f\"{value} {from_unit} is equal to {converted_value:.4f} {to_unit}\")\n",
        "            else:\n",
        "                print(\"Conversion error. Please try again.\")\n",
        "\n",
        "        except ValueError:\n",
        "            print(\"Invalid input. Please enter a valid number.\")\n",
        "\n",
        "        another = input(\"Do you want to perform another conversion? (yes/no): \").strip().lower()\n",
        "        if another != \"yes\":\n",
        "            print(\"End of program!\")\n",
        "            break\n",
        "\n",
        "if __name__ == \"__main__\":\n",
        "    main()\n"
      ]
    },
    {
      "cell_type": "markdown",
      "metadata": {
        "id": "XYpjH_4L3wwc"
      },
      "source": [
        "Task - 2:\n",
        "\n",
        "Create a Python program that performs various mathematical operations on a list of numbers.\n",
        "*   The program should:\n",
        "1. Prompt the user to choose an operation (e.g., find the sum, average, maximum, or minimum of the numbers)\n",
        "2. Ask the user to input a list of numbers (separated by spaces).\n",
        "3. Perform the selected operation and display the result.\n",
        "4. Handle potential errors, such as invalid input or empty lists.\n",
        "*   Requirements:\n",
        "1. Functions: Define at least one function for each operation (sum, average, maximum, minimum).\n",
        "2. Error Handling: Use try-except blocks to handle invalid input (e.g., non-numeric values or empty lists).\n",
        "3. User Input: Prompt the user to select the operation and input the list of numbers.\n",
        "4. Docstrings: Include a docstring in each function to describe its purpose, parameters, and\n",
        "return value."
      ]
    },
    {
      "cell_type": "code",
      "source": [
        "def find_sum(nums):\n",
        "  \"\"\"\n",
        "  Calculates the sum of a list of numbers\n",
        "\n",
        "  Parameters:\n",
        "  nums(list of float): list of float numbers\n",
        "\n",
        "  Returns\n",
        "  float: sum of numbers\n",
        "\n",
        "  \"\"\"\n",
        "  return sum(nums)\n",
        "\n",
        "def average(nums):\n",
        "  \"\"\"\n",
        "    Calculates the average of a list of numbers.\n",
        "\n",
        "    Parameters:\n",
        "    nums(list of float: list of float numbers.\n",
        "\n",
        "    Returns:\n",
        "    float: average of the numbers.\n",
        "    \"\"\"\n",
        "  return sum(nums)/len(nums)\n",
        "\n",
        "def find_max(nums):\n",
        "  \"\"\"\n",
        "    Finds the maximum value in a list of numbers.\n",
        "\n",
        "    Parameters:\n",
        "    nums(list of float: list of float numbers.\n",
        "\n",
        "    Returns:\n",
        "    float: maximum number.\n",
        "    \"\"\"\n",
        "  return max(nums)\n",
        "\n",
        "def find_min(nums):\n",
        "  \"\"\"\n",
        "    Finds the minimum value in a list of numbers.\n",
        "\n",
        "    Parameters:\n",
        "    nums(list of float): list of float numbers.\n",
        "\n",
        "    Returns:\n",
        "    float: minimum number.\n",
        "    \"\"\"\n",
        "  return min(nums)\n",
        "\n",
        "def get_nums():\n",
        "  \"\"\"\n",
        "  Prompts user to enter a list of numbers\n",
        "  Returns:\n",
        "  list of float: the list of numbers entered by the user\n",
        "\n",
        "  \"\"\"\n",
        "  while True:\n",
        "    try:\n",
        "      numbers = list(map(float,input(\"Enter numbers separated by spaces: \").split()))\n",
        "      if not numbers:\n",
        "        print(\"Error: The list cannot be empty. Please enter at leeast one number\")\n",
        "        continue\n",
        "      return numbers\n",
        "    except ValueError:\n",
        "      print(\"Error: Invalid input. Please enter numbers separated by spaces.\")\n",
        "\n",
        "\n",
        "def main():\n",
        "  operations = {\n",
        "      \"1\": (\"Sum\", sum),\n",
        "      \"2\": (\"Average\", average),\n",
        "      \"3\": (\"Maximum\", find_max),\n",
        "      \"4\": (\"Minimum\", find_min)\n",
        "  }\n",
        "  while True:\n",
        "    print(\"\\nChoose a mathematical operations: \")\n",
        "    for key,(name,_) in operations.items():\n",
        "      print(f\"{key}. {name}\")\n",
        "\n",
        "    choice = input(\"Enter the numbers of the operation you want to perform:\").strip()\n",
        "\n",
        "    if choice not in operations:\n",
        "      print(\"Invalid choice. Please select a valid option.\")\n",
        "      continue\n",
        "\n",
        "    operation_name, operation_func = operations[choice]\n",
        "    print(f\"You have selected: {operation_name}\")\n",
        "\n",
        "    num = get_nums()\n",
        "    res = operation_func(num)\n",
        "\n",
        "    if res is not None:\n",
        "      print(f\"Result:{res}\")\n",
        "    else:\n",
        "      print(\"Error\")\n",
        "\n",
        "    again = input(\"Do you want to perform another operation? (yes/no): \").strip().lower()\n",
        "    if again != \"yes\":\n",
        "      print(\"End of program!\")\n",
        "      break\n",
        "\n",
        "if __name__ == \"__main__\":\n",
        "  main()\n"
      ],
      "metadata": {
        "id": "KcaP3KDRsQSh",
        "colab": {
          "base_uri": "https://localhost:8080/"
        },
        "outputId": "6a68e2c5-3862-4297-836a-5a7da99fcadd"
      },
      "execution_count": null,
      "outputs": [
        {
          "output_type": "stream",
          "name": "stdout",
          "text": [
            "\n",
            "Choose a mathematical operations: \n",
            "1. Sum\n",
            "2. Average\n",
            "3. Maximum\n",
            "4. Minimum\n",
            "Enter the numbers of the operation you want to perform:6\n",
            "Invalid choice. Please select a valid option.\n",
            "\n",
            "Choose a mathematical operations: \n",
            "1. Sum\n",
            "2. Average\n",
            "3. Maximum\n",
            "4. Minimum\n",
            "Enter the numbers of the operation you want to perform:2\n",
            "You have selected: Average\n",
            "Enter numbers separated by spaces: \n",
            "Error: The list cannot be empty. Please enter at leeast one number\n",
            "Enter numbers separated by spaces: 3 4 3 2 4 2\n",
            "Result:3.0\n",
            "Do you want to perform another operation? (yes/no): no\n",
            "End of program!\n"
          ]
        }
      ]
    },
    {
      "cell_type": "markdown",
      "metadata": {
        "id": "EwIsbR_O4pVp"
      },
      "source": [
        "## Exercise on List Manipulation:"
      ]
    },
    {
      "cell_type": "markdown",
      "metadata": {
        "id": "iN2aJHMZ4wpc"
      },
      "source": [
        "1. Extract Every Other Element:\n",
        "\n",
        "  Write a Python function that extracts every other element from a list, starting from the first element.\n",
        "\n",
        "  Requirements:\n",
        "- Define a function extract every other(lst) that takes a list lst as input and returns a\n",
        "new list containing every other element from the original list.\n",
        "- Example: For the input [1, 2, 3, 4, 5, 6], the output should be [1, 3, 5].\n"
      ]
    },
    {
      "cell_type": "code",
      "execution_count": null,
      "metadata": {
        "id": "BEgbjHFu4pr8",
        "colab": {
          "base_uri": "https://localhost:8080/"
        },
        "outputId": "6d7bedc7-335a-42d2-a76f-baa9b7c80a99"
      },
      "outputs": [
        {
          "output_type": "stream",
          "name": "stdout",
          "text": [
            "Original list: [1, 2, 3, 4, 5, 6, 7, 8]\n",
            "The new list with every other element:  [1, 3, 5, 7]\n"
          ]
        }
      ],
      "source": [
        "def extract(lst):\n",
        "  \"\"\"\n",
        "  Extracts every other elemet from a list, starting from the first element.\n",
        "\n",
        "  Parameters:\n",
        "  lst (list): The input list\n",
        "\n",
        "  Returns:\n",
        "  list: a new list containing every other element from the original list\n",
        "  \"\"\"\n",
        "  return lst[::2]\n",
        "\n",
        "lst =[1,2,3,4,5,6,7,8]\n",
        "new_lst =[]\n",
        "res = extract(lst)\n",
        "print(\"Original list:\", lst)\n",
        "print(\"The new list with every other element: \", res)"
      ]
    },
    {
      "cell_type": "markdown",
      "metadata": {
        "id": "6aCXSKZH4-9i"
      },
      "source": [
        "2. Slice a Sublist:\n",
        "\n",
        "  Write a Python function that returns a sublist from a given list, starting from a specified index and ending at another specified index.\n",
        "\n",
        "  Requirements:\n",
        "- Define a function get sublist(lst, start, end) that takes a list lst, a starting index start, and an ending index end as input and returns the sublist from start to end (inclusive).\n",
        "- Example: For the input [1, 2, 3, 4, 5, 6] with start=2 and end=4, the output should be [3, 4, 5]."
      ]
    },
    {
      "cell_type": "code",
      "execution_count": null,
      "metadata": {
        "id": "A_kBV1374_RR",
        "colab": {
          "base_uri": "https://localhost:8080/"
        },
        "outputId": "6bbae895-72c9-4e3d-9287-47b4862e075e"
      },
      "outputs": [
        {
          "output_type": "stream",
          "name": "stdout",
          "text": [
            "Original list: [1, 2, 3, 4, 5, 6]\n",
            "The sublist from the specified start to end is:  [3, 4, 5]\n"
          ]
        }
      ],
      "source": [
        "def get_sublist(lst, start, end):\n",
        "  \"\"\"\n",
        "  Returns a sublist from a given list, starting from a specified index and ending at another specified index.\n",
        "\n",
        "  Parameters:\n",
        "  lst (list): The input list\n",
        "  start (int): The starting index\n",
        "  end (int): The ending index\n",
        "\n",
        "  Returns:\n",
        "  list: The sublist from start to end (inclusive)\n",
        "\n",
        "  \"\"\"\n",
        "\n",
        "  return lst[start:end+1]\n",
        "\n",
        "lst = [1, 2, 3, 4, 5, 6]\n",
        "start = 2\n",
        "end = 4\n",
        "res = get_sublist(lst, start, end)\n",
        "print(\"Original list:\", lst)\n",
        "print(\"The sublist from the specified start to end is: \", res)"
      ]
    },
    {
      "cell_type": "markdown",
      "metadata": {
        "id": "3x4SO3405MUF"
      },
      "source": [
        "3. Reverse a List Using Slicing:\n",
        "\n",
        "  Write a Python function that reverses a list using slicing.\n",
        "\n",
        "  Requirements:\n",
        "- Define a function reverse list(lst) that takes a list lst and returns a reversed list using slicing.\n",
        "- Example: For the input [1, 2, 3, 4, 5], the output should be [5, 4, 3, 2, 1]."
      ]
    },
    {
      "cell_type": "code",
      "execution_count": null,
      "metadata": {
        "id": "fFnrjSGB5MEA",
        "colab": {
          "base_uri": "https://localhost:8080/"
        },
        "outputId": "198998ec-e971-4382-9c31-0dc2bbc768d6"
      },
      "outputs": [
        {
          "output_type": "stream",
          "name": "stdout",
          "text": [
            "Original list: [1, 2, 3, 4, 5, 6]\n",
            "The reversed list is:  [6, 5, 4, 3, 2, 1]\n"
          ]
        }
      ],
      "source": [
        "def reverse(lst):\n",
        "  return lst[::-1]\n",
        "\n",
        "lst = [1, 2, 3, 4, 5, 6]\n",
        "res = reverse(lst)\n",
        "print(\"Original list:\", lst)\n",
        "print(\"The reversed list is: \", res)"
      ]
    },
    {
      "cell_type": "markdown",
      "metadata": {
        "id": "PRyHCbMa5Tsi"
      },
      "source": [
        "4. Remove the First and Last Elements:\n",
        "\n",
        "  Write a Python function that removes the first and last elements of a list and returns the resulting sublist.\n",
        "\n",
        "  Requirements:\n",
        "- Define a function remove first last(lst) that takes a list lst and returns a sublist without\n",
        "the first and last elements using slicing.\n",
        "- Example: For the input [1, 2, 3, 4, 5], the output should be [2, 3, 4]."
      ]
    },
    {
      "cell_type": "code",
      "execution_count": null,
      "metadata": {
        "id": "r7GhhV_D5S2J",
        "colab": {
          "base_uri": "https://localhost:8080/"
        },
        "outputId": "1edfc3d5-ab9f-4c18-b088-31cb9243d5a4"
      },
      "outputs": [
        {
          "output_type": "stream",
          "name": "stdout",
          "text": [
            "Original list: [1, 2, 3, 4, 5, 6, 7, 8]\n",
            "The sublist without the first and last elements is:  [2, 3, 4, 5, 6, 7]\n"
          ]
        }
      ],
      "source": [
        "def remove(lst):\n",
        "  return lst[1:-1]\n",
        "\n",
        "lst = [1, 2, 3, 4, 5, 6, 7, 8]\n",
        "res = remove(lst)\n",
        "print(\"Original list:\", lst)\n",
        "print(\"The sublist without the first and last elements is: \", res)"
      ]
    },
    {
      "cell_type": "markdown",
      "metadata": {
        "id": "h5ECezqd5Zw9"
      },
      "source": [
        "5. Get the First n Elements:\n",
        "\n",
        "  Write a Python function that extracts the first n elements from a list.\n",
        "\n",
        "  Requirements:\n",
        "- Define a function get first n(lst, n) that takes a list lst and an integer n as input and returns the first n elements of the list using slicing.\n",
        "- Example: For the input [1, 2, 3, 4, 5] with n=3, the output should be [1, 2, 3]."
      ]
    },
    {
      "cell_type": "code",
      "execution_count": null,
      "metadata": {
        "id": "hRa_u43q5ZZ6",
        "colab": {
          "base_uri": "https://localhost:8080/"
        },
        "outputId": "75fb18ec-6cb6-42aa-8327-d97597353bd7"
      },
      "outputs": [
        {
          "output_type": "stream",
          "name": "stdout",
          "text": [
            "Original list: [1, 2, 3, 4, 5, 6, 7, 8]\n",
            "The first 4 elements of the list are:  [1, 2, 3, 4]\n"
          ]
        }
      ],
      "source": [
        "def get_first_n(lst, n):\n",
        "  return lst[:n]\n",
        "\n",
        "lst = [1, 2, 3, 4, 5, 6, 7, 8]\n",
        "n = 4\n",
        "res = get_first_n(lst, n)\n",
        "print(\"Original list:\", lst)\n",
        "print(\"The first\", n, \"elements of the list are: \", res)"
      ]
    },
    {
      "cell_type": "markdown",
      "metadata": {
        "id": "51rALL_35jxs"
      },
      "source": [
        "6. Extract Elements from the End:\n",
        "\n",
        "  Write a Python function that extracts the last n elements of a list using slicing.\n",
        "\n",
        "  Requirements:\n",
        "- Define a function get last n(lst, n) that takes a list lst and an integer n as input and returns the last n elements of the list.\n",
        "- Example: For the input [1, 2, 3, 4, 5] with n=2, the output should be [4, 5]."
      ]
    },
    {
      "cell_type": "code",
      "execution_count": null,
      "metadata": {
        "id": "xgW7PRZU5jhx",
        "colab": {
          "base_uri": "https://localhost:8080/"
        },
        "outputId": "6e19ea96-d897-4b92-e744-954763a8ca44"
      },
      "outputs": [
        {
          "output_type": "stream",
          "name": "stdout",
          "text": [
            "Original list: [1, 2, 3, 4, 5, 6, 7, 8]\n",
            "The last 4 elements of the list are:  [5, 6, 7, 8]\n"
          ]
        }
      ],
      "source": [
        "def get_last_n(lst, n):\n",
        "  return lst[-n:]\n",
        "\n",
        "lst = [1, 2, 3, 4, 5, 6, 7, 8]\n",
        "n = 4\n",
        "res = get_last_n(lst, n)\n",
        "print(\"Original list:\", lst)\n",
        "print(\"The last\", n, \"elements of the list are: \", res)"
      ]
    },
    {
      "cell_type": "markdown",
      "metadata": {
        "id": "34__TtSg5oa-"
      },
      "source": [
        "7. Extract Elements in Reverse Order:\n",
        "\n",
        "  Write a Python function that extracts a list of elements in reverse order starting from the second-to-last element and skipping one element in between.\n",
        "\n",
        "  Requirements:\n",
        "- Define a function reverse skip(lst) that takes a list lst and returns a new list containing every second element starting from the second-to-last, moving backward.\n",
        "- Example: For the input [1, 2, 3, 4, 5, 6], the output should be [5, 3, 1]."
      ]
    },
    {
      "cell_type": "code",
      "execution_count": null,
      "metadata": {
        "id": "brElPgkK5oIZ",
        "colab": {
          "base_uri": "https://localhost:8080/"
        },
        "outputId": "5f5d1448-b853-417b-cef2-b855087e902a"
      },
      "outputs": [
        {
          "output_type": "stream",
          "name": "stdout",
          "text": [
            "Original list: [1, 2, 3, 4, 5, 6, 7, 8]\n",
            "Every other element in reverse order:  [7, 5, 3, 1]\n"
          ]
        }
      ],
      "source": [
        "def reverse_skip(lst):\n",
        "  return lst[-2::-2]\n",
        "\n",
        "lst = [1, 2, 3, 4, 5, 6, 7, 8]\n",
        "res = reverse_skip(lst)\n",
        "print(\"Original list:\", lst)\n",
        "print(\"Every other element in reverse order: \",res)"
      ]
    },
    {
      "cell_type": "markdown",
      "metadata": {
        "id": "YMdwVVbG5621"
      },
      "source": [
        "## Exercise on Nested List:"
      ]
    },
    {
      "cell_type": "markdown",
      "metadata": {
        "id": "wryvurtq6AhN"
      },
      "source": [
        "1. Flatten a Nested List:\n",
        "\n",
        "  Write a Python function that takes a nested list and flattens it into a single list, where all the elements are in a single dimension.\n",
        "\n",
        "  Requirements:\n",
        "- Define a function flatten(lst) that takes a nested list lst and returns a flattened version of the list.\n",
        "- Example: For the input [[1, 2], [3, 4], [5]], the output should be [1, 2, 3, 4, 5]."
      ]
    },
    {
      "cell_type": "code",
      "execution_count": null,
      "metadata": {
        "id": "poVwp1pA56eR",
        "colab": {
          "base_uri": "https://localhost:8080/"
        },
        "outputId": "d6286bbd-44d1-4e89-f6ff-87dc5aae897a"
      },
      "outputs": [
        {
          "output_type": "stream",
          "name": "stdout",
          "text": [
            "Original list: ([1, 2], [3, 4], [5, 6], [7, 8])\n",
            "Flattened list: [1, 2, 3, 4, 5, 6, 7, 8]\n"
          ]
        }
      ],
      "source": [
        "def flatten(lst):\n",
        "  flattened_lst = []\n",
        "  for sublist in lst:\n",
        "    for item in sublist:\n",
        "      flattened_lst.append(item)\n",
        "  return flattened_lst\n",
        "\n",
        "lst = [1, 2], [3, 4], [5, 6], [7, 8]\n",
        "print(\"Original list:\", lst)\n",
        "flattened_lst = flatten(lst)\n",
        "print(\"Flattened list:\", flattened_lst)"
      ]
    },
    {
      "cell_type": "markdown",
      "metadata": {
        "id": "4WqNxsfY7H24"
      },
      "source": [
        "2. Accessing Nested List Elements:\n",
        "\n",
        "  Write a Python function that extracts a specific element from a nested list given its indices.\n",
        "\n",
        "  Requirements:\n",
        "- Define a function access nested element(lst, indices) that takes a nested list lst and a list of indices indices, and returns the element at that position.\n",
        "- Example: For the input lst = [[1, 2, 3], [4, 5, 6], [7, 8, 9]] with indices = [1, 2], the output should be 6."
      ]
    },
    {
      "cell_type": "code",
      "execution_count": null,
      "metadata": {
        "id": "snYxVXrh7He-",
        "colab": {
          "base_uri": "https://localhost:8080/"
        },
        "outputId": "889cd7fc-0af9-4e29-85d5-a753ee6c3ffd"
      },
      "outputs": [
        {
          "output_type": "stream",
          "name": "stdout",
          "text": [
            "Original list: [[1, 2, 3], [4, 5, 6], [7, 8, 9]]\n",
            "The element at the specified indices is:  5\n"
          ]
        }
      ],
      "source": [
        "def access_nested_element(lst,indices):\n",
        "  elemt = lst[indices[0]][indices[1]]\n",
        "  return elemt\n",
        "\n",
        "lst = [[1, 2, 3], [4, 5, 6], [7, 8, 9]]\n",
        "indices = [1, 1]\n",
        "res = access_nested_element(lst, indices)\n",
        "print(\"Original list:\", lst)\n",
        "print(\"The element at the specified indices is: \", res)"
      ]
    },
    {
      "cell_type": "markdown",
      "metadata": {
        "id": "QweHLnmg7K4K"
      },
      "source": [
        "3. Sum of All Elements in a Nested List:\n",
        "\n",
        "  Write a Python function that calculates the sum of all the numbers in a nested list (regardless of depth).\n",
        "\n",
        "  Requirements:\n",
        "- Define a function sum nested(lst) that takes a nested list lst and returns the sum of all the elements.\n",
        "- Example: For the input [[1, 2], [3, [4, 5]], 6], the output should be 21."
      ]
    },
    {
      "cell_type": "code",
      "execution_count": null,
      "metadata": {
        "id": "OTz5l3iz7Knd",
        "colab": {
          "base_uri": "https://localhost:8080/"
        },
        "outputId": "6567404a-c542-4eb3-83f6-54e3c707210a"
      },
      "outputs": [
        {
          "output_type": "stream",
          "name": "stdout",
          "text": [
            "Original list: [[1, 2, 3], [4, 5, [10, 11], 6], [7, 8, 9]]\n",
            "Sum of all the elements in the nested list =  66\n"
          ]
        }
      ],
      "source": [
        "def sum_nested(lst):\n",
        "  sum = 0\n",
        "  for item in lst:\n",
        "    if isinstance(item, list):\n",
        "      sum += sum_nested(item)\n",
        "    else:\n",
        "      sum += item\n",
        "  return sum\n",
        "\n",
        "lst = [[1, 2, 3], [4, 5,[10,11], 6], [7, 8, 9]]\n",
        "print(\"Original list:\", lst)\n",
        "res = sum_nested(lst)\n",
        "print(\"Sum of all the elements in the nested list = \", res)"
      ]
    },
    {
      "cell_type": "markdown",
      "metadata": {
        "id": "GUeBb_NC7NuF"
      },
      "source": [
        "4. Remove Specific Element from a Nested List:\n",
        "  \n",
        "  Write a Python function that removes all occurrences of a specific element from a nested list.\n",
        "\n",
        "  Requirements:\n",
        "- Define a function remove element(lst, elem) that removes elem from lst and returns the modified list.\n",
        "- Example: For the input lst = [[1, 2], [3, 2], [4, 5]] and elem = 2, the output should be [[1], [3], [4, 5]]."
      ]
    },
    {
      "cell_type": "code",
      "execution_count": null,
      "metadata": {
        "id": "71XGCpkj7Nfs",
        "colab": {
          "base_uri": "https://localhost:8080/"
        },
        "outputId": "0a81bab7-9b2e-4158-d115-2f9a9575e3aa"
      },
      "outputs": [
        {
          "output_type": "stream",
          "name": "stdout",
          "text": [
            "Original list: [[1, 2, 3], [4, 5, [10, 11], 6], [7, 8]]\n",
            "The modified list after removing the element is:  [[1, 2, 3], [4, [10, 11], 6], [7, 8]]\n"
          ]
        }
      ],
      "source": [
        "def remove_element(lst, elem):\n",
        "  for sublist in lst:\n",
        "    while elem in sublist:\n",
        "      sublist.remove(elem)\n",
        "  return lst\n",
        "lst = [[1, 2, 3], [4, 5,[10,11], 6], [7, 8]]\n",
        "elem = 5\n",
        "print(\"Original list:\", lst)\n",
        "res = remove_element(lst, elem)\n",
        "print(\"The modified list after removing the element is: \", res)"
      ]
    },
    {
      "cell_type": "markdown",
      "metadata": {
        "id": "ITyPYyDH7QUF"
      },
      "source": [
        "5. Find the Maximum Element in a Nested List:\n",
        "\n",
        "  Write a Python function that finds the maximum element in a nested list (regardless of depth).\n",
        "\n",
        "  Requirements:\n",
        "- Define a function find max(lst) that takes a nested list lst and returns the maximum element.\n",
        "- Example: For the input [[1, 2], [3, [4, 5]], 6], the output should be 6."
      ]
    },
    {
      "cell_type": "code",
      "execution_count": null,
      "metadata": {
        "id": "95NUYXbY7P4O",
        "colab": {
          "base_uri": "https://localhost:8080/"
        },
        "outputId": "1eef50ad-8be2-4102-81c9-7be88171f2e0"
      },
      "outputs": [
        {
          "output_type": "stream",
          "name": "stdout",
          "text": [
            "Original list: [[1, 2, 3], [4, 5, [10, 11], 6], [7, 8, 9]]\n",
            "The maximum element in the nested list is: 11\n"
          ]
        }
      ],
      "source": [
        "def find_max(lst):\n",
        "  max_val = float('-inf')\n",
        "  for item in lst:\n",
        "    if isinstance(item, list):\n",
        "      max_val = max(max_val, find_max(item))\n",
        "    else:\n",
        "      max_val = max(max_val, item)\n",
        "  return max_val\n",
        "lst = [[1, 2, 3], [4, 5,[10,11], 6], [7, 8, 9]]\n",
        "print(\"Original list:\", lst)\n",
        "max_value = find_max(lst)\n",
        "print(\"The maximum element in the nested list is:\",max_value)\n"
      ]
    },
    {
      "cell_type": "markdown",
      "metadata": {
        "id": "ZhL2AL9R7Syh"
      },
      "source": [
        "6. Count Occurrences of an Element in a Nested List:\n",
        "\n",
        "  Write a Python function that counts how many times a specific element appears in a nested list.\n",
        "\n",
        "  Requirements:\n",
        "- Define a function count occurrences(lst, elem) that counts the occurrences of elem in the nested list lst.\n",
        "- Example: For the input lst = [[1, 2], [2, 3], [2, 4]] and elem = 2, the output should be 3."
      ]
    },
    {
      "cell_type": "code",
      "execution_count": null,
      "metadata": {
        "id": "CMRrl6mX7Sbt",
        "colab": {
          "base_uri": "https://localhost:8080/"
        },
        "outputId": "b4cdbc51-5e73-4c5e-8092-e052bb215a83"
      },
      "outputs": [
        {
          "output_type": "stream",
          "name": "stdout",
          "text": [
            "Original list: [[1, 7, 3], [4, 5, [10, 7], 6], [7, 7, 9]]\n",
            "Number of occurrences of 7 in the nested list is:  4\n"
          ]
        }
      ],
      "source": [
        "def count_occurrences(lst, elem):\n",
        "  count = 0\n",
        "  for item in lst:\n",
        "    if isinstance(item,list):\n",
        "      count += count_occurrences(item, elem)\n",
        "    elif item == elem:\n",
        "      count += 1\n",
        "  return count\n",
        "\n",
        "lst = [[1, 7, 3], [4, 5,[10,7], 6], [7, 7, 9]]\n",
        "print(\"Original list:\", lst)\n",
        "elem = 7\n",
        "res = count_occurrences(lst,elem)\n",
        "print(f\"Number of occurrences of {elem} in the nested list is: \", res)"
      ]
    },
    {
      "cell_type": "markdown",
      "metadata": {
        "id": "zfxYIYSE7V2H"
      },
      "source": [
        "7. Flatten a List of Lists of Lists:\n",
        "\n",
        "  Write a Python function that flattens a list of lists of lists into a single list, regardless of the depth.\n",
        "\n",
        "  Requirements:\n",
        "- Define a function deep flatten(lst) that takes a deeply nested list lst and returns a single flattened list.\n",
        "- Example: For the input [[[1, 2], [3, 4]], [[5, 6], [7, 8]]], the output should be [1, 2, 3, 4, 5, 6, 7, 8]."
      ]
    },
    {
      "cell_type": "code",
      "execution_count": null,
      "metadata": {
        "id": "8RiM8NZL7Vn1",
        "colab": {
          "base_uri": "https://localhost:8080/"
        },
        "outputId": "d0e355f9-48b3-460d-806e-1f345f438430"
      },
      "outputs": [
        {
          "output_type": "stream",
          "name": "stdout",
          "text": [
            "Original list: [[1, 7, 3], [4, 5, [10, 17], 6], [7, 71, 9]]\n",
            "Flattened list: [1, 7, 3, 4, 5, 10, 17, 6, 7, 71, 9]\n"
          ]
        }
      ],
      "source": [
        "def deep_flatten(lst):\n",
        "  flattened_lst = []\n",
        "  for item in lst:\n",
        "    if isinstance(item, list):\n",
        "      flattened_lst.extend(deep_flatten(item))\n",
        "    else:\n",
        "      flattened_lst.append(item)\n",
        "  return flattened_lst\n",
        "\n",
        "lst = [[1, 7, 3], [4, 5,[10,17], 6], [7, 71, 9]]\n",
        "print(\"Original list:\", lst)\n",
        "flattened_lst = deep_flatten(lst)\n",
        "print(\"Flattened list:\", flattened_lst)"
      ]
    },
    {
      "cell_type": "markdown",
      "metadata": {
        "id": "iPbu1GZE7YXm"
      },
      "source": [
        "8. Nested List Average:\n",
        "\n",
        "  Write a Python function that calculates the average of all elements in a nested list.\n",
        "\n",
        "  Requirements:\n",
        "- Define a function average nested(lst) that takes a nested list lst and returns the average of all the elements.\n",
        "- Example: For the input [[1, 2], [3, 4], [5, 6]], the output should be 3.5."
      ]
    },
    {
      "cell_type": "code",
      "execution_count": null,
      "metadata": {
        "id": "HCcBwNbk7YJj",
        "colab": {
          "base_uri": "https://localhost:8080/"
        },
        "outputId": "27db7b40-4535-4178-d11b-2decb9e66ca2"
      },
      "outputs": [
        {
          "output_type": "stream",
          "name": "stdout",
          "text": [
            "Original list: [[1, 2, 3], [4, 5, [10, 11], 6], [7, 8, 9]]\n",
            "The average of all the elements in the nested list is:  6.0\n"
          ]
        }
      ],
      "source": [
        "def avg_nested(lst):\n",
        "  flattened_lst = deep_flatten(lst)\n",
        "  total = sum(flattened_lst)\n",
        "  return total/len(flattened_lst)\n",
        "lst = [[1, 2, 3], [4, 5,[10,11], 6], [7, 8, 9]]\n",
        "print(\"Original list:\", lst)\n",
        "res = avg_nested(lst)\n",
        "print(\"The average of all the elements in the nested list is: \", res)"
      ]
    },
    {
      "cell_type": "markdown",
      "metadata": {
        "id": "I-vfjpNW2I7P"
      },
      "source": [
        "## Basic Vector and Matrix Operation with Numpy\n",
        "### Problem - 1: Array Creation:\n"
      ]
    },
    {
      "cell_type": "code",
      "execution_count": null,
      "metadata": {
        "id": "2gjdYtQs2HKt"
      },
      "outputs": [],
      "source": [
        "import numpy as np"
      ]
    },
    {
      "cell_type": "markdown",
      "metadata": {
        "id": "1t4PF3cb4lLJ"
      },
      "source": [
        "1. Initialize an empty array with size 2X2."
      ]
    },
    {
      "cell_type": "code",
      "execution_count": null,
      "metadata": {
        "id": "KP6VNwr-KK_L",
        "colab": {
          "base_uri": "https://localhost:8080/"
        },
        "outputId": "319ccc50-9a91-4743-b63a-2444a8fe8a2a"
      },
      "outputs": [
        {
          "output_type": "stream",
          "name": "stdout",
          "text": [
            "Empty Array: \n",
            " [[2.42131934e-316 0.00000000e+000]\n",
            " [6.83747917e-310 4.89665695e-317]]\n"
          ]
        }
      ],
      "source": [
        "empty_array = np.empty((2,2))\n",
        "print(\"Empty Array: \\n\",empty_array)"
      ]
    },
    {
      "cell_type": "markdown",
      "metadata": {
        "id": "C2ZcbcZn1yIG"
      },
      "source": [
        "2. Initialize an all one array with size 4X2."
      ]
    },
    {
      "cell_type": "code",
      "execution_count": null,
      "metadata": {
        "id": "jxw2mYb512Ei",
        "colab": {
          "base_uri": "https://localhost:8080/"
        },
        "outputId": "afd11da9-a73c-48b5-a6ee-d35a5e96a8c7"
      },
      "outputs": [
        {
          "output_type": "stream",
          "name": "stdout",
          "text": [
            "All One Array: \n",
            " [[1. 1.]\n",
            " [1. 1.]\n",
            " [1. 1.]\n",
            " [1. 1.]]\n"
          ]
        }
      ],
      "source": [
        "all_one_array = np.ones((4,2))\n",
        "print(\"All One Array: \\n\",all_one_array)"
      ]
    },
    {
      "cell_type": "markdown",
      "metadata": {
        "id": "HM-sXPcq12YU"
      },
      "source": [
        "3. Return a new array of given shape and type, filled with fill value.{Hint: np.full}"
      ]
    },
    {
      "cell_type": "code",
      "execution_count": null,
      "metadata": {
        "id": "hn5crYZ1137L",
        "colab": {
          "base_uri": "https://localhost:8080/"
        },
        "outputId": "04dbdf7c-c721-47ef-e06b-84ebf2eb7254"
      },
      "outputs": [
        {
          "output_type": "stream",
          "name": "stdout",
          "text": [
            "New Array: \n",
            " [[6.06 6.06]\n",
            " [6.06 6.06]\n",
            " [6.06 6.06]\n",
            " [6.06 6.06]\n",
            " [6.06 6.06]\n",
            " [6.06 6.06]]\n"
          ]
        }
      ],
      "source": [
        "new_array = np.full((6,2),6.06, dtype = float)\n",
        "print(\"New Array: \\n\",new_array)"
      ]
    },
    {
      "cell_type": "markdown",
      "metadata": {
        "id": "g_x0qTyC14ZD"
      },
      "source": [
        "4. Return a new array of zeros with same shape and type as a given array.{Hint: np.zeros like}"
      ]
    },
    {
      "cell_type": "code",
      "execution_count": null,
      "metadata": {
        "id": "MQc0BZ9R16PS",
        "colab": {
          "base_uri": "https://localhost:8080/"
        },
        "outputId": "ae948e6a-085d-4a7d-8f74-6c70180eaed7"
      },
      "outputs": [
        {
          "output_type": "stream",
          "name": "stdout",
          "text": [
            "New Array of zeros: \n",
            " [[0. 0.]\n",
            " [0. 0.]\n",
            " [0. 0.]\n",
            " [0. 0.]\n",
            " [0. 0.]\n",
            " [0. 0.]]\n"
          ]
        }
      ],
      "source": [
        "new_zeros_array = np.zeros_like(new_array)\n",
        "print(\"New Array of zeros: \\n\",new_zeros_array)"
      ]
    },
    {
      "cell_type": "markdown",
      "metadata": {
        "id": "rPKWGYw516iS"
      },
      "source": [
        "5. Return a new array of ones with same shape and type as a given array.{Hint: np.ones like}"
      ]
    },
    {
      "cell_type": "code",
      "execution_count": null,
      "metadata": {
        "id": "bPJaCBod17-Z",
        "colab": {
          "base_uri": "https://localhost:8080/"
        },
        "outputId": "614973d2-6531-493f-d4d8-9d7df6b10464"
      },
      "outputs": [
        {
          "output_type": "stream",
          "name": "stdout",
          "text": [
            " New Array of ones: \n",
            " [[1. 1.]\n",
            " [1. 1.]\n",
            " [1. 1.]\n",
            " [1. 1.]\n",
            " [1. 1.]\n",
            " [1. 1.]]\n"
          ]
        }
      ],
      "source": [
        "print(\" New Array of ones: \\n\",np.ones_like(new_array))"
      ]
    },
    {
      "cell_type": "markdown",
      "metadata": {
        "id": "GflBat9918S8"
      },
      "source": [
        "6. For an existing list new_list = [1,2,3,4] convert to an numpy array.{Hint: np.array()}"
      ]
    },
    {
      "cell_type": "code",
      "execution_count": null,
      "metadata": {
        "id": "AS1HyOiZ19pK",
        "colab": {
          "base_uri": "https://localhost:8080/"
        },
        "outputId": "5a8c129a-1ae3-4a2e-f686-24a829c046cb"
      },
      "outputs": [
        {
          "output_type": "stream",
          "name": "stdout",
          "text": [
            "Numpy Array: \n",
            " [1 2 3 4]\n",
            "Type:  <class 'numpy.ndarray'>\n"
          ]
        }
      ],
      "source": [
        "new_list = [1,2,3,4]\n",
        "new_arr = np.array(new_list)\n",
        "print(\"Numpy Array: \\n\",new_arr)\n",
        "print(\"Type: \", type(new_arr))"
      ]
    },
    {
      "cell_type": "markdown",
      "metadata": {
        "id": "Ws2MEs2E7tXp"
      },
      "source": [
        "### Problem - 2: Array Manipulation: Numerical Ranges and Array indexing:"
      ]
    },
    {
      "cell_type": "markdown",
      "metadata": {
        "id": "gKF9uMKi70Er"
      },
      "source": [
        "1. Create an array with values ranging from 10 to 49. {Hint:np.arrange()}."
      ]
    },
    {
      "cell_type": "code",
      "execution_count": null,
      "metadata": {
        "id": "xmnMdU0Q7swg",
        "colab": {
          "base_uri": "https://localhost:8080/"
        },
        "outputId": "e4003e79-617f-4eaa-8b62-ab0d369390b8"
      },
      "outputs": [
        {
          "output_type": "stream",
          "name": "stdout",
          "text": [
            "Array with values ranging from 10 to 49: \n",
            " [10 11 12 13 14 15 16 17 18 19 20 21 22 23 24 25 26 27 28 29 30 31 32 33\n",
            " 34 35 36 37 38 39 40 41 42 43 44 45 46 47 48 49]\n"
          ]
        }
      ],
      "source": [
        "print(\"Array with values ranging from 10 to 49: \\n\",np.arange(10,50))"
      ]
    },
    {
      "cell_type": "markdown",
      "metadata": {
        "id": "47AQfVae71-P"
      },
      "source": [
        "2. Create a 3X3 matrix with values ranging from 0 to 8. {Hint:look for np.reshape()}"
      ]
    },
    {
      "cell_type": "code",
      "execution_count": null,
      "metadata": {
        "id": "vJ7gctDE74fF",
        "colab": {
          "base_uri": "https://localhost:8080/"
        },
        "outputId": "60cca22b-5d57-442b-e6d8-8546cbba7a99"
      },
      "outputs": [
        {
          "output_type": "stream",
          "name": "stdout",
          "text": [
            "3X3 matrix with values ranging from 0 to 8: \n",
            " [[0 1 2]\n",
            " [3 4 5]\n",
            " [6 7 8]]\n"
          ]
        }
      ],
      "source": [
        "array = np.arange(9)\n",
        "matrix = np.reshape(array,(3,3))\n",
        "print(\"3X3 matrix with values ranging from 0 to 8: \\n\",matrix)"
      ]
    },
    {
      "cell_type": "markdown",
      "metadata": {
        "id": "lPrts2rh75Hw"
      },
      "source": [
        "3. Create a 3X3 identity matrix.{Hint:np.eye()}"
      ]
    },
    {
      "cell_type": "code",
      "execution_count": null,
      "metadata": {
        "id": "wLYExE-c7469",
        "colab": {
          "base_uri": "https://localhost:8080/"
        },
        "outputId": "00bce0a5-aa93-461f-eb50-2b91ef5b59ab"
      },
      "outputs": [
        {
          "output_type": "stream",
          "name": "stdout",
          "text": [
            "3X3 identity matrix: \n",
            " [[1 0 0]\n",
            " [0 1 0]\n",
            " [0 0 1]]\n"
          ]
        }
      ],
      "source": [
        "print(\"3X3 identity matrix: \\n\", np.eye(3,dtype=int))"
      ]
    },
    {
      "cell_type": "markdown",
      "metadata": {
        "id": "VaXdK_fw76ln"
      },
      "source": [
        "4. Create a random array of size 30 and find the mean of the array.\n",
        "{Hint:check for np.random.random() and array.mean() function}"
      ]
    },
    {
      "cell_type": "code",
      "execution_count": null,
      "metadata": {
        "id": "mtsQS_dl7_nM",
        "colab": {
          "base_uri": "https://localhost:8080/"
        },
        "outputId": "1e9bb6bb-05ca-4229-a10b-b4ba5fbbb38b"
      },
      "outputs": [
        {
          "output_type": "stream",
          "name": "stdout",
          "text": [
            "Random array of size 30:\n",
            "[0.59878812 0.19924577 0.57795392 0.78123239 0.06632669 0.2559697\n",
            " 0.1606254  0.24422971 0.67470321 0.71579882 0.32944193 0.47086627\n",
            " 0.81900753 0.37570703 0.22378909 0.58017557 0.98662907 0.59942184\n",
            " 0.64134824 0.70411209 0.41265326 0.72510883 0.48383428 0.95361006\n",
            " 0.22954887 0.04641122 0.86857775 0.38464091 0.37904969 0.1712956 ]\n",
            "\n",
            "Mean: 0.4886700954266602\n"
          ]
        }
      ],
      "source": [
        "random_arr = np.random.random(30)\n",
        "print(f\"Random array of size 30:\\n{random_arr}\")\n",
        "mean = np.mean(random_arr)\n",
        "print(\"\\nMean:\",mean)"
      ]
    },
    {
      "cell_type": "markdown",
      "metadata": {
        "id": "7G9BJK808AQP"
      },
      "source": [
        "5. Create a 10X10 array with random values and find the minimum and maximum values."
      ]
    },
    {
      "cell_type": "code",
      "execution_count": null,
      "metadata": {
        "id": "otT0jZSl8ADe",
        "colab": {
          "base_uri": "https://localhost:8080/"
        },
        "outputId": "8f0e6cd9-85de-4f17-aa9d-c0e9a95443c7"
      },
      "outputs": [
        {
          "output_type": "stream",
          "name": "stdout",
          "text": [
            "10X10 array with random values:\n",
            "[[0.47798266 0.19895343 0.06450715 0.53491571 0.52783316 0.39132629\n",
            "  0.16409748 0.60152279 0.92867195 0.94524131]\n",
            " [0.86119741 0.19482841 0.69911464 0.39548102 0.30366052 0.79330528\n",
            "  0.35664277 0.53044776 0.2095761  0.26757601]\n",
            " [0.22503256 0.19568052 0.47414027 0.74763959 0.65181485 0.83400466\n",
            "  0.00398966 0.05710007 0.1925141  0.4979999 ]\n",
            " [0.35718206 0.92101655 0.3695884  0.80762022 0.9680993  0.7913756\n",
            "  0.98645839 0.61841783 0.37469439 0.73347547]\n",
            " [0.65638339 0.15192768 0.39525403 0.41883402 0.40148482 0.35722166\n",
            "  0.60516661 0.91700767 0.97542258 0.84240067]\n",
            " [0.24252401 0.04629901 0.84040252 0.23822784 0.87132902 0.42367093\n",
            "  0.85139886 0.11450062 0.74511647 0.81760846]\n",
            " [0.70346154 0.21095422 0.47252491 0.71178441 0.92276795 0.17185045\n",
            "  0.42388629 0.14470812 0.85051168 0.49028672]\n",
            " [0.11080717 0.16587911 0.66431238 0.10586252 0.10684352 0.97399632\n",
            "  0.43217194 0.91189993 0.144332   0.94932819]\n",
            " [0.37069194 0.24321932 0.61314075 0.92701168 0.70376397 0.40431906\n",
            "  0.44910583 0.50589248 0.60153967 0.13857522]\n",
            " [0.14004274 0.53119464 0.2385427  0.2142614  0.60390006 0.11200565\n",
            "  0.73046908 0.82466311 0.77353216 0.21519638]]\n",
            "\n",
            "Minimum value: 0.003989659029606241\n",
            "\n",
            "Maximum value: 0.9864583929384694\n"
          ]
        }
      ],
      "source": [
        "array = np.random.random((10, 10))\n",
        "print(f\"10X10 array with random values:\\n{array}\")\n",
        "print(f\"\\nMinimum value: {np.min(array)}\")\n",
        "print(f\"\\nMaximum value: {np.max(array)}\")"
      ]
    },
    {
      "cell_type": "markdown",
      "metadata": {
        "id": "_chSFTAG8CB5"
      },
      "source": [
        "6. Create a zero array of size 10 and replace 5th element with 1."
      ]
    },
    {
      "cell_type": "code",
      "execution_count": null,
      "metadata": {
        "id": "XIfbVGb08B0H",
        "colab": {
          "base_uri": "https://localhost:8080/"
        },
        "outputId": "4d105c53-ddc4-44ab-c73f-c7b7dd1196c1"
      },
      "outputs": [
        {
          "output_type": "stream",
          "name": "stdout",
          "text": [
            "Array: [0 0 0 0 1 0 0 0 0 0]\n"
          ]
        }
      ],
      "source": [
        "zero_arr = np.zeros(10, dtype=int)\n",
        "zero_arr[4] = 1\n",
        "print(\"Array:\",zero_arr)"
      ]
    },
    {
      "cell_type": "markdown",
      "metadata": {
        "id": "Am6cDmv38EGG"
      },
      "source": [
        "7. Reverse an array arr = [1,2,0,0,4,0]."
      ]
    },
    {
      "cell_type": "code",
      "execution_count": null,
      "metadata": {
        "id": "chw_ltar8D6V",
        "colab": {
          "base_uri": "https://localhost:8080/"
        },
        "outputId": "cf19bafa-00bf-4c12-edf7-42eff647ff62"
      },
      "outputs": [
        {
          "output_type": "stream",
          "name": "stdout",
          "text": [
            "Original array: [1, 2, 0, 0, 4, 0]\n",
            "Reversed array: [0, 4, 0, 0, 2, 1]\n"
          ]
        }
      ],
      "source": [
        "arr = [1,2,0,0,4,0]\n",
        "reversed_arr = arr[::-1]\n",
        "print(\"Original array:\",arr)\n",
        "print(\"Reversed array:\",reversed_arr)"
      ]
    },
    {
      "cell_type": "markdown",
      "metadata": {
        "id": "mq3YVsAJ8FrA"
      },
      "source": [
        "8. Create a 2d array with 1 on border and 0 inside."
      ]
    },
    {
      "cell_type": "code",
      "execution_count": null,
      "metadata": {
        "id": "3GiwBz1k8Fdm",
        "colab": {
          "base_uri": "https://localhost:8080/"
        },
        "outputId": "a570a7c2-d95a-454d-81e9-09d497567c8b"
      },
      "outputs": [
        {
          "output_type": "stream",
          "name": "stdout",
          "text": [
            "2d array with 1 on border and 0 inside:\n",
            " [[1 1 1 1 1]\n",
            " [1 0 0 0 1]\n",
            " [1 0 0 0 1]\n",
            " [1 0 0 0 1]\n",
            " [1 1 1 1 1]]\n"
          ]
        }
      ],
      "source": [
        "arr = np.ones((5,5), dtype=int)\n",
        "arr[1:-1,1:-1] = 0\n",
        "print(\"2d array with 1 on border and 0 inside:\\n\",arr)"
      ]
    },
    {
      "cell_type": "markdown",
      "metadata": {
        "id": "4uPkOeO78Hjw"
      },
      "source": [
        "9. Create a 8X8 matrix and fill it with a checkerboard pattern."
      ]
    },
    {
      "cell_type": "code",
      "execution_count": null,
      "metadata": {
        "id": "4plkfXZz8HYq",
        "colab": {
          "base_uri": "https://localhost:8080/"
        },
        "outputId": "79615018-d19b-4462-b93a-43cc8a1c0d32"
      },
      "outputs": [
        {
          "output_type": "stream",
          "name": "stdout",
          "text": [
            "Checkerboard pattern:\n",
            " [[0 1 0 1 0 1 0 1]\n",
            " [1 0 1 0 1 0 1 0]\n",
            " [0 1 0 1 0 1 0 1]\n",
            " [1 0 1 0 1 0 1 0]\n",
            " [0 1 0 1 0 1 0 1]\n",
            " [1 0 1 0 1 0 1 0]\n",
            " [0 1 0 1 0 1 0 1]\n",
            " [1 0 1 0 1 0 1 0]]\n"
          ]
        }
      ],
      "source": [
        "arr = np.zeros((8,8), dtype=int)\n",
        "arr[1::2,::2] = 1\n",
        "arr[::2,1::2] = 1\n",
        "print(\"Checkerboard pattern:\\n\",arr)"
      ]
    },
    {
      "cell_type": "markdown",
      "metadata": {
        "id": "yRZn9VM08NBl"
      },
      "source": [
        "### Problem - 3: Array Operations:\n",
        "\n",
        "For the following arrays:\n",
        "\n",
        "x = np.array([[1,2],[3,5]]) and y = np.array([[5,6],[7,8]]);\n",
        "\n",
        "v = np.array([9,10]) and w = np.array([11,12]);\n",
        "\n",
        "Complete all the task using numpy:\n"
      ]
    },
    {
      "cell_type": "markdown",
      "metadata": {
        "id": "mFob4h6Q8TaW"
      },
      "source": [
        "1. Add the two array."
      ]
    },
    {
      "cell_type": "code",
      "execution_count": null,
      "metadata": {
        "id": "JlXD5gtR8S_v",
        "colab": {
          "base_uri": "https://localhost:8080/"
        },
        "outputId": "e13dd472-ea75-49fe-b397-3c428df31f3a"
      },
      "outputs": [
        {
          "output_type": "stream",
          "name": "stdout",
          "text": [
            "Addition:\n",
            "[[1 2]\n",
            " [3 5]]\n",
            "+\n",
            "[[5 6]\n",
            " [7 8]] = \n",
            "[[ 6  8]\n",
            " [10 13]]\n",
            "\n",
            "[ 9 10] + [11 12] = [20 22]\n"
          ]
        }
      ],
      "source": [
        "x = np.array([[1,2],[3,5]])\n",
        "y = np.array([[5,6],[7,8]])\n",
        "v = np.array([9,10])\n",
        "w = np.array([11,12])\n",
        "\n",
        "print(\"Addition:\")\n",
        "add_xy = np.add(x, y)\n",
        "print(f\"{x}\\n+\\n{y} = \")\n",
        "print(add_xy)\n",
        "\n",
        "print(\"\")\n",
        "add_vw = np.add(v, w)\n",
        "print(f\"{v} + {w} = {add_vw}\")\n",
        "\n"
      ]
    },
    {
      "cell_type": "markdown",
      "metadata": {
        "id": "S_Qb0vcl8Vwe"
      },
      "source": [
        "2. Subtract the two array."
      ]
    },
    {
      "cell_type": "code",
      "execution_count": null,
      "metadata": {
        "id": "d9cR-cQ48Vd6",
        "colab": {
          "base_uri": "https://localhost:8080/"
        },
        "outputId": "d0a413a7-5765-4e9b-cbfb-263072f951f5"
      },
      "outputs": [
        {
          "output_type": "stream",
          "name": "stdout",
          "text": [
            "Subtraction\n",
            "[[1 2]\n",
            " [3 5]]\n",
            "-\n",
            "[[5 6]\n",
            " [7 8]] = \n",
            "[[-4 -4]\n",
            " [-4 -3]]\n",
            "\n",
            "[ 9 10] - [11 12] = [-2 -2]\n"
          ]
        }
      ],
      "source": [
        "print(\"Subtraction\")\n",
        "subtract_xy = np.subtract(x, y)\n",
        "print(f\"{x}\\n-\\n{y} = \")\n",
        "print(subtract_xy)\n",
        "\n",
        "print(\"\")\n",
        "subtract_vw = np.subtract(v, w)\n",
        "print(f\"{v} - {w} = {subtract_vw}\")"
      ]
    },
    {
      "cell_type": "markdown",
      "metadata": {
        "id": "QBEG5Tne8Xtg"
      },
      "source": [
        "3. Multiply the array with any integers of your choice."
      ]
    },
    {
      "cell_type": "code",
      "execution_count": null,
      "metadata": {
        "id": "xiVuA1QU8XhL",
        "colab": {
          "base_uri": "https://localhost:8080/"
        },
        "outputId": "d156a95f-775e-4478-d14a-e9fb15c8300e"
      },
      "outputs": [
        {
          "output_type": "stream",
          "name": "stdout",
          "text": [
            "Multiplication\n",
            "6 . [[1 2]\n",
            " [3 5]] = \n",
            "[[ 6 12]\n",
            " [18 30]]\n"
          ]
        }
      ],
      "source": [
        "print(\"Multiplication\")\n",
        "multiply_x = np.dot(x,6)\n",
        "print(f\"6 . {x} = \\n{multiply_x}\")"
      ]
    },
    {
      "cell_type": "markdown",
      "metadata": {
        "id": "zz-THavf8ZW6"
      },
      "source": [
        "4. Find the square of each element of the array."
      ]
    },
    {
      "cell_type": "code",
      "source": [
        "print(\"Original array:\",y)\n",
        "print(\"Array with quared elements\", y**2)"
      ],
      "metadata": {
        "colab": {
          "base_uri": "https://localhost:8080/"
        },
        "id": "dItnbMe-69Sv",
        "outputId": "7d0b6860-e003-4555-ec34-fc3de0488618"
      },
      "execution_count": null,
      "outputs": [
        {
          "output_type": "stream",
          "name": "stdout",
          "text": [
            "Original array: [[5 6]\n",
            " [7 8]]\n",
            "Array with quared elements [[25 36]\n",
            " [49 64]]\n"
          ]
        }
      ]
    },
    {
      "cell_type": "markdown",
      "metadata": {
        "id": "sGPw_0mt8bTv"
      },
      "source": [
        "5. Find the dot product between: v(and)w ; x(and)v ; x(and)y."
      ]
    },
    {
      "cell_type": "code",
      "execution_count": null,
      "metadata": {
        "id": "bwuxiXEW8ZKK",
        "colab": {
          "base_uri": "https://localhost:8080/"
        },
        "outputId": "507e9b91-91eb-4daf-b636-a1c0448682c3"
      },
      "outputs": [
        {
          "output_type": "stream",
          "name": "stdout",
          "text": [
            "Dot Products:\n",
            "\n",
            "v(and)w: 219\n",
            "\n",
            "x(and)v: [29 77]\n",
            "\n",
            "x(and)y: [[19 22]\n",
            " [50 58]]\n"
          ]
        }
      ],
      "source": [
        "print(\"Dot Products:\")\n",
        "dot_prod_vw = np.dot(v, w)\n",
        "print(\"\\nv(and)w:\", dot_prod_vw)\n",
        "dot_prod_xv = np.dot(x, v)\n",
        "print(\"\\nx(and)v:\", dot_prod_xv)\n",
        "dot_prod_xy = np.dot(x, y)\n",
        "print(\"\\nx(and)y:\", dot_prod_xy)"
      ]
    },
    {
      "cell_type": "markdown",
      "metadata": {
        "id": "JSCcC5Mx8c-D"
      },
      "source": [
        "6. Concatenate x(and)y along row and Concatenate v(and)w along column. {Hint:try np.concatenate() or np.vstack() functions."
      ]
    },
    {
      "cell_type": "code",
      "execution_count": null,
      "metadata": {
        "id": "JCW9x7uF8cyj",
        "colab": {
          "base_uri": "https://localhost:8080/"
        },
        "outputId": "23a670c6-77fd-4a9b-bc8e-8f6812c8cdfd"
      },
      "outputs": [
        {
          "output_type": "stream",
          "name": "stdout",
          "text": [
            "Concatenating x(and)y along row:\n",
            "[[1 2]\n",
            " [3 5]\n",
            " [5 6]\n",
            " [7 8]]\n",
            "\n",
            "Concatenating v(and)w along column:\n",
            "[[ 9 11]\n",
            " [10 12]]\n"
          ]
        }
      ],
      "source": [
        "print(\"Concatenating x(and)y along row:\")\n",
        "concatenate_xy = np.concatenate((x, y), axis=0)\n",
        "print(concatenate_xy)\n",
        "\n",
        "print(\"\\nConcatenating v(and)w along column:\")\n",
        "concatenate_vw = np.concatenate_column = np.vstack((v, w)).T\n",
        "print(concatenate_vw)"
      ]
    },
    {
      "cell_type": "markdown",
      "metadata": {
        "id": "Og1km3tu8e-H"
      },
      "source": [
        "7. Concatenate x(and)v; if you get an error, observe and explain why did you get the error?"
      ]
    },
    {
      "cell_type": "code",
      "execution_count": null,
      "metadata": {
        "id": "TXHVKG-v8eqY",
        "colab": {
          "base_uri": "https://localhost:8080/",
          "height": 211
        },
        "outputId": "a61e9b64-fe05-4f16-c942-4bfbf9ff59ba"
      },
      "outputs": [
        {
          "output_type": "stream",
          "name": "stdout",
          "text": [
            "\n",
            "Concatenating x(and)v:\n"
          ]
        },
        {
          "output_type": "error",
          "ename": "ValueError",
          "evalue": "all the input arrays must have same number of dimensions, but the array at index 0 has 2 dimension(s) and the array at index 1 has 1 dimension(s)",
          "traceback": [
            "\u001b[0;31m---------------------------------------------------------------------------\u001b[0m",
            "\u001b[0;31mValueError\u001b[0m                                Traceback (most recent call last)",
            "\u001b[0;32m<ipython-input-55-82c267f3bcd6>\u001b[0m in \u001b[0;36m<cell line: 0>\u001b[0;34m()\u001b[0m\n\u001b[1;32m      1\u001b[0m \u001b[0mprint\u001b[0m\u001b[0;34m(\u001b[0m\u001b[0;34m\"\\nConcatenating x(and)v:\"\u001b[0m\u001b[0;34m)\u001b[0m\u001b[0;34m\u001b[0m\u001b[0;34m\u001b[0m\u001b[0m\n\u001b[0;32m----> 2\u001b[0;31m \u001b[0mconcatenate_xv\u001b[0m \u001b[0;34m=\u001b[0m \u001b[0mnp\u001b[0m\u001b[0;34m.\u001b[0m\u001b[0mconcatenate\u001b[0m\u001b[0;34m(\u001b[0m\u001b[0;34m(\u001b[0m\u001b[0mx\u001b[0m\u001b[0;34m,\u001b[0m \u001b[0mv\u001b[0m\u001b[0;34m)\u001b[0m\u001b[0;34m,\u001b[0m \u001b[0maxis\u001b[0m\u001b[0;34m=\u001b[0m\u001b[0;36m0\u001b[0m\u001b[0;34m)\u001b[0m\u001b[0;34m\u001b[0m\u001b[0;34m\u001b[0m\u001b[0m\n\u001b[0m\u001b[1;32m      3\u001b[0m \u001b[0mprint\u001b[0m\u001b[0;34m(\u001b[0m\u001b[0mconcatenate_xv\u001b[0m\u001b[0;34m)\u001b[0m\u001b[0;34m\u001b[0m\u001b[0;34m\u001b[0m\u001b[0m\n",
            "\u001b[0;31mValueError\u001b[0m: all the input arrays must have same number of dimensions, but the array at index 0 has 2 dimension(s) and the array at index 1 has 1 dimension(s)"
          ]
        }
      ],
      "source": [
        "print(\"\\nConcatenating x(and)v:\")\n",
        "concatenate_xv = np.concatenate((x, v), axis=0)\n",
        "print(concatenate_xv)"
      ]
    },
    {
      "cell_type": "markdown",
      "source": [
        "The arrays x and v used to perform the concatenation hace different dimensions.\n",
        "\n",
        "Thus, the concatenation is not possible."
      ],
      "metadata": {
        "id": "JEJq2u8C80bc"
      }
    },
    {
      "cell_type": "markdown",
      "metadata": {
        "id": "qsye1D1v8hMI"
      },
      "source": [
        "### Problem - 4: Matrix Operations:\n",
        "- For the following arrays:\n",
        "\n",
        "  A = np.array([[3,4],[7,8]]) and B = np.array([[5,3],[2,1]]);\n",
        "\n",
        "  Prove following with Numpy:\n",
        "  1. Prove A.A−1 = I.\n",
        "  2. Prove AB ̸= BA.\n",
        "  3. Prove(AB)T =BTAT."
      ]
    },
    {
      "cell_type": "code",
      "source": [
        "A = np.array([[3,4],[7,8]])\n",
        "B = np.array([[5,3],[2,1]])"
      ],
      "metadata": {
        "id": "Mr5BqFxj9be6"
      },
      "execution_count": null,
      "outputs": []
    },
    {
      "cell_type": "code",
      "execution_count": null,
      "metadata": {
        "id": "dElQfEY68u8-",
        "colab": {
          "base_uri": "https://localhost:8080/"
        },
        "outputId": "653e89a7-67cf-475b-be45-b4db72d62855"
      },
      "outputs": [
        {
          "output_type": "stream",
          "name": "stdout",
          "text": [
            "1. A.A−1:\n",
            "[[1. 0.]\n",
            " [0. 1.]]\n",
            "\n",
            "\n",
            "2. AB != BA\n",
            "\n",
            "\n",
            "3. (AB)T = BT.AT\n"
          ]
        }
      ],
      "source": [
        "from numpy import linalg\n",
        "\n",
        "inverse_A = np.linalg.inv(A)\n",
        "result_1 = np.dot(A, inverse_A)\n",
        "print(f\"1. A.A−1:\\n{np.round(result_1)}\")\n",
        "\n",
        "dot_product_AB = np.dot(A, B)\n",
        "dot_product_BA = np.dot(B, A)\n",
        "\n",
        "check = np.array_equal(dot_product_AB, dot_product_BA)\n",
        "print(\"\\n\")\n",
        "if check == True:\n",
        "  print(\"2. AB = BA\")\n",
        "else:\n",
        "  print(\"2. AB != BA\")\n",
        "\n",
        "transpose_A = np.transpose(A)\n",
        "transpose_B = np.transpose(B)\n",
        "\n",
        "product_BTAT = np.dot(transpose_B, transpose_A)\n",
        "transpose_AB = np.transpose(dot_product_AB)\n",
        "\n",
        "check1 = np.array_equal(transpose_AB, product_BTAT)\n",
        "print(\"\\n\")\n",
        "if check1 == True:\n",
        "  print(\"3. (AB)T = BT.AT\")\n",
        "else:\n",
        "  print(\"3. (AB)T != BT.AT\")"
      ]
    },
    {
      "cell_type": "markdown",
      "metadata": {
        "id": "ep85jQse8viC"
      },
      "source": [
        "- Solve the following system of Linear equation using Inverse Methods.\n",
        "\n",
        "  2x − 3y + z = −1\n",
        "\n",
        "  x − y + 2z = −3\n",
        "\n",
        "  3x + y − z = 9\n",
        "\n",
        "  {Hint: First use Numpy array to represent the equation in Matrix form. Then Solve for: AX = B}"
      ]
    },
    {
      "cell_type": "code",
      "execution_count": null,
      "metadata": {
        "id": "4dFnfSuh8vUo"
      },
      "outputs": [],
      "source": [
        "A = np.array([[2, -3, 1],\n",
        "              [1, -1, 2],\n",
        "              [3, 1, -1]])\n",
        "\n",
        "B = np.array([-1, -3, 9])"
      ]
    },
    {
      "cell_type": "code",
      "source": [
        "print(\"Coefficient matrix A:\")\n",
        "print(A)\n",
        "print(\"\\nConstant matrix B:\")\n",
        "print(B)"
      ],
      "metadata": {
        "colab": {
          "base_uri": "https://localhost:8080/"
        },
        "id": "kZzsXybe-3Z9",
        "outputId": "0128a4ed-84ee-4ccb-ae2e-2cbab1ef77e7"
      },
      "execution_count": null,
      "outputs": [
        {
          "output_type": "stream",
          "name": "stdout",
          "text": [
            "Coefficient matrix A:\n",
            "[[ 2 -3  1]\n",
            " [ 1 -1  2]\n",
            " [ 3  1 -1]]\n",
            "\n",
            "Constant matrix B:\n",
            "[-1 -3  9]\n"
          ]
        }
      ]
    },
    {
      "cell_type": "code",
      "source": [
        "det_A = np.linalg.det(A)\n",
        "\n",
        "cofactor_matrix = np.zeros_like(A, dtype=float)\n",
        "\n",
        "for i in range(A.shape[0]):\n",
        "    for j in range(A.shape[1]):\n",
        "        minor_matrix = np.delete(np.delete(A, i, axis=0), j, axis=1)\n",
        "        cofactor_matrix[i, j] = ((-1) ** (i + j)) * np.linalg.det(minor_matrix)\n",
        "\n",
        "adjugate_matrix = cofactor_matrix.T\n",
        "\n",
        "# inverse of A\n",
        "A_inv = adjugate_matrix / det_A"
      ],
      "metadata": {
        "id": "Oc2269X3-6AT"
      },
      "execution_count": null,
      "outputs": []
    },
    {
      "cell_type": "code",
      "source": [
        "X = np.dot(A_inv, B)\n",
        "print(\"Solution using Inverse Methods:\")\n",
        "print(X)"
      ],
      "metadata": {
        "colab": {
          "base_uri": "https://localhost:8080/"
        },
        "id": "MS9jTzU2_K4C",
        "outputId": "61089384-ef36-49a2-a6c5-6a61f3376500"
      },
      "execution_count": null,
      "outputs": [
        {
          "output_type": "stream",
          "name": "stdout",
          "text": [
            "Solution using Inverse Methods:\n",
            "[ 2.  1. -2.]\n"
          ]
        }
      ]
    },
    {
      "cell_type": "markdown",
      "metadata": {
        "id": "TNCWBSK988ka"
      },
      "source": [
        "- Now: solve the above equation using np.linalg.inv function. {Explore more about ”linalg” func- tion of Numpy}"
      ]
    },
    {
      "cell_type": "code",
      "execution_count": null,
      "metadata": {
        "id": "v5E2UXdY88MX",
        "colab": {
          "base_uri": "https://localhost:8080/"
        },
        "outputId": "2bf0f153-73e7-49a4-e06d-ecfad967b8a3"
      },
      "outputs": [
        {
          "output_type": "stream",
          "name": "stdout",
          "text": [
            "Solution using np.linalg.inv function:\n",
            "[ 2.  1. -2.]\n"
          ]
        }
      ],
      "source": [
        "A_inv = np.linalg.inv(A)\n",
        "X = np.dot(A_inv, B)\n",
        "print(\"Solution using np.linalg.inv function:\")\n",
        "print(X)"
      ]
    },
    {
      "cell_type": "markdown",
      "source": [
        "### Experiment: How Fast is Numpy?\n",
        "\n",
        "1. Element-wise Addition:\n",
        "- Using Python Lists, perform element-wise addition of two lists of size 1, 000, 000. Measure and Print the time taken for this operation.\n",
        "- Using Numpy Arrays, Repeat the calculation and measure and print the time taken for this operation.\n"
      ],
      "metadata": {
        "id": "r7lyLIKJ03xm"
      }
    },
    {
      "cell_type": "code",
      "source": [
        "import time\n",
        "\n",
        "lst1 = [i for i in range(1,1000001)]\n",
        "lst2 = [i for i in range(1000001,2000001)]\n",
        "\n",
        "start_time = time.time()\n",
        "result_time = [a+b for a,b in zip(lst1, lst2)]\n",
        "end_time = time.time()\n",
        "add_time = end_time - start_time\n",
        "print(f\"Time taken for element-wise addition: {add_time} seconds\")\n",
        "\n",
        "arr1 = np.array(lst1)\n",
        "arr2 = np.array(lst2)\n",
        "\n",
        "start_time = time.time()\n",
        "result_array = arr1 + arr2\n",
        "end_time = time.time()\n",
        "array_time = end_time - start_time\n",
        "print(f\"Time taken for element-wise addition using Numpy arrays: {array_time} seconds\")"
      ],
      "metadata": {
        "colab": {
          "base_uri": "https://localhost:8080/"
        },
        "id": "h9KTwlCx2FSo",
        "outputId": "7712dac1-8acb-4982-e284-2614da95e155"
      },
      "execution_count": null,
      "outputs": [
        {
          "output_type": "stream",
          "name": "stdout",
          "text": [
            "Time taken for element-wise addition: 0.10199308395385742 seconds\n",
            "Time taken for element-wise addition using Numpy arrays: 0.004677772521972656 seconds\n"
          ]
        }
      ]
    },
    {
      "cell_type": "markdown",
      "source": [
        "2. Element-wise Multiplication\n",
        "- Using Python Lists, perform element-wise multiplication of two lists of size 1,000,000. Measure and Print the time taken for this operation.\n",
        "- Using Numpy Arrays, Repeat the calculation and measure and print the time taken for this operation."
      ],
      "metadata": {
        "id": "y0gae3-g1jzP"
      }
    },
    {
      "cell_type": "code",
      "source": [
        "start_time = time.time()\n",
        "result_lst = [a*b for a,b in zip(lst1, lst2)]\n",
        "end_time = time.time()\n",
        "multiplication_time = end_time - start_time\n",
        "print(f\"Time taken for element-wise multiplication: {multiplication_time} seconds\")\n",
        "\n",
        "array1 = np.array(lst1)\n",
        "array2 = np.array(lst2)\n",
        "\n",
        "start_time = time.time()\n",
        "result_array = array1 * array2\n",
        "end_time = time.time()\n",
        "array_time = end_time - start_time\n",
        "print(f\"Time taken for element-wise multiplication using Numpy arrays: {array_time} seconds\")"
      ],
      "metadata": {
        "colab": {
          "base_uri": "https://localhost:8080/"
        },
        "id": "DS9BNjKx2IX0",
        "outputId": "592aea3a-d5e5-4edb-f2cc-cba532223296"
      },
      "execution_count": null,
      "outputs": [
        {
          "output_type": "stream",
          "name": "stdout",
          "text": [
            "Time taken for element-wise multiplication: 0.09686112403869629 seconds\n",
            "Time taken for element-wise multiplication using Numpy arrays: 0.009573698043823242 seconds\n"
          ]
        }
      ]
    },
    {
      "cell_type": "markdown",
      "source": [],
      "metadata": {
        "id": "0z2WZgWfBgPV"
      }
    },
    {
      "cell_type": "markdown",
      "source": [
        "3. Dot Product\n",
        "- Using Python Lists, compute the dot product of two lists of size 1, 000, 000. Measure and Print the time taken for this operation.\n",
        "- Using Numpy Arrays, Repeat the calculation and measure and print the time taken for this operation."
      ],
      "metadata": {
        "id": "CqdPXEJW2OV6"
      }
    },
    {
      "cell_type": "code",
      "source": [
        "start_time = time.time()\n",
        "result_time = [a*b for a,b in zip(lst1, lst2)]\n",
        "end_time = time.time()\n",
        "dot_product_time = end_time - start_time\n",
        "print(f\"Time taken to compute the dot product: {dot_product_time} seconds\")\n",
        "\n",
        "array1 = np.array(lst1)\n",
        "array2 = np.array(lst2)\n",
        "\n",
        "start_time = time.time()\n",
        "dot_product_array = np.dot(array1, array2)\n",
        "end_time = time.time()\n",
        "array_time = end_time - start_time\n",
        "print(f\"Time taken to compute the dot product using Numpy arrays: {array_time} seconds\")"
      ],
      "metadata": {
        "colab": {
          "base_uri": "https://localhost:8080/"
        },
        "id": "N_E3pev12NzC",
        "outputId": "414afc76-0f91-4855-f64d-ac46b623a6e9"
      },
      "execution_count": null,
      "outputs": [
        {
          "output_type": "stream",
          "name": "stdout",
          "text": [
            "Time taken to compute the dot product: 0.10945296287536621 seconds\n",
            "Time taken to compute the dot product using Numpy arrays: 0.001950979232788086 seconds\n"
          ]
        }
      ]
    },
    {
      "cell_type": "markdown",
      "source": [
        "4. Matrix Multiplication\n",
        "- Using Python lists, perform matrix multiplication of two matrices of size 1000x1000. Measure and print the time taken for this operation.\n",
        "- Using NumPy arrays, perform matrix multiplication of two matrices of size 1000x1000. Measure and print the time taken for this operation."
      ],
      "metadata": {
        "id": "dYS5Wdao3OIQ"
      }
    },
    {
      "cell_type": "code",
      "source": [
        "N=1000\n",
        "\n",
        "matrix1 = [[i + j for j in range(N)] for i in range(N)]\n",
        "matrix2 = [[i - j for j in range(N)] for i in range(N)]\n",
        "\n",
        "def mat_mul(A,B):\n",
        "  result = [[0] *N for _ in range(N)]\n",
        "  for i in range(N):\n",
        "    for j in range(N):\n",
        "      for k in range(N):\n",
        "        result[i][j] += A[i][k] * B[k][j]\n",
        "  return result\n",
        "\n",
        "start_time = time.time()\n",
        "result = mat_mul(matrix1, matrix2)\n",
        "end_time = time.time()\n",
        "mat_mul_time = end_time - start_time\n",
        "print(f\"Time taken for matrix multiplication: {mat_mul_time} seconds\")\n",
        "\n",
        "array1 = np.array(matrix1)\n",
        "array2 = np.array(matrix2)\n",
        "\n",
        "start_time = time.time()\n",
        "result_numpy = np.dot(array1, array2)\n",
        "end_time = time.time()\n",
        "numpy_matmul_time = end_time - start_time\n",
        "print(f\"Time taken for matrix multiplication using Numpy arrays: {numpy_matmul_time:.6f} seconds\")"
      ],
      "metadata": {
        "colab": {
          "base_uri": "https://localhost:8080/"
        },
        "id": "It6GMvGSB0Vj",
        "outputId": "ae6d8448-858f-40ca-eac8-2331596c0464"
      },
      "execution_count": null,
      "outputs": [
        {
          "output_type": "stream",
          "name": "stdout",
          "text": [
            "Time taken for matrix multiplication: 187.64951491355896 seconds\n",
            "Time taken for matrix multiplication using Numpy arrays: 2.182149 seconds\n"
          ]
        }
      ]
    }
  ]
}